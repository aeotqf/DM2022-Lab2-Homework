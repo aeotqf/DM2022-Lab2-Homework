{
 "cells": [
  {
   "cell_type": "markdown",
   "id": "9901cd09",
   "metadata": {},
   "source": [
    "Summary: \n",
    "* I tried some models like Naive Bayes, Decision Tree and the NN from the lab 2. I also tried Random Forest and SVM classifier however they were running like 5 days and the pc crashed.\n",
    "* For the preprocessing I tried some things I got from the labs and also some tutorials from the web. Tried some combinations of nltk tokenizer, bag of words, max_features and cleaning data.\n",
    "* I think I failed because my theory is lacking and the way I try preprocessing is not good. Need to practice a lot more to undertsand.\n",
    "* Actually I enjoyed a lot this activity. Quite a combination of fun and frustration which is interesting."
   ]
  },
  {
   "cell_type": "markdown",
   "id": "3c644edb",
   "metadata": {},
   "source": [
    "Some models I tried (I have them spread in different notebooks):\n",
    "* Naive Bayes - The best accuracy with this model was **0.45091** using countecvectorizer and nltk tokenizer. \n",
    "* Decision Tree - The best accuracy with this model was **0.33519** using countvectorizer and nltk tokenizer.\n",
    "* Random Forest - Never finished -> pc crashed no time to rerun.\n",
    "* SVM Never finished -> pc crashed no time to rerun. \n",
    "* CNN - The best accuracy with this model was **0.4539** using 5000 features 15 epochs, batch size 128 and 5 layers.\n",
    "* Some of the references I read on the web for some things I tried:\n",
    "https://medium.com/@bedigunjit/simple-guide-to-text-classification-nlp-using-svm-and-naive-bayes-with-python-421db3a72d34\n",
    "https://medium.com/voice-tech-podcast/text-classification-using-cnn-9ade8155dfb9\n",
    "https://towardsdatascience.com/twitter-sentiment-analysis-with-keras-and-nltk-48189967f190\n",
    "https://towardsdatascience.com/using-lstm-in-twitter-sentiment-analysis-a5d9013b523b\n",
    "https://huggingface.co/blog/sentiment-analysis-twitter"
   ]
  },
  {
   "cell_type": "markdown",
   "id": "6d56aefd",
   "metadata": {},
   "source": [
    "## 1- Preprocessing the Data"
   ]
  },
  {
   "cell_type": "code",
   "execution_count": 1,
   "id": "0de7d647",
   "metadata": {},
   "outputs": [],
   "source": [
    "# importing some libraries\n",
    "import pandas as pd\n",
    "import json\n",
    "import numpy as np\n",
    "import matplotlib.pyplot as plt\n",
    "import seaborn as sns\n",
    "import nltk\n",
    "from sklearn.feature_extraction.text import CountVectorizer,TfidfVectorizer\n",
    "from sklearn.tree import DecisionTreeClassifier\n",
    "from sklearn.metrics import confusion_matrix"
   ]
  },
  {
   "cell_type": "code",
   "execution_count": 2,
   "id": "3aeac6f0",
   "metadata": {},
   "outputs": [],
   "source": [
    "# importing the data\n",
    "emotion = pd.read_csv('data/emotion.csv')\n",
    "identify = pd.read_csv('data/data_identification.csv')\n",
    "json_object = pd.read_json('data/tweets_DM.json', lines=True)\n",
    "#json_object = json.loads('data/tweets_DM.json')"
   ]
  },
  {
   "cell_type": "code",
   "execution_count": 3,
   "id": "82277830",
   "metadata": {},
   "outputs": [],
   "source": [
    "# converting to DataFrames\n",
    "emotion_df = pd.DataFrame(emotion)\n",
    "identify_df = pd.DataFrame(identify)\n",
    "json_objectdf = pd.DataFrame(json_object)"
   ]
  },
  {
   "cell_type": "code",
   "execution_count": 4,
   "id": "dc80dbe2",
   "metadata": {},
   "outputs": [
    {
     "data": {
      "text/plain": [
       "0          {'tweet': {'hashtags': ['Snapchat'], 'tweet_id...\n",
       "1          {'tweet': {'hashtags': ['freepress', 'TrumpLeg...\n",
       "2          {'tweet': {'hashtags': ['bibleverse'], 'tweet_...\n",
       "3          {'tweet': {'hashtags': [], 'tweet_id': '0x1cd5...\n",
       "4          {'tweet': {'hashtags': [], 'tweet_id': '0x2de2...\n",
       "                                 ...                        \n",
       "1867530    {'tweet': {'hashtags': ['mixedfeeling', 'butim...\n",
       "1867531    {'tweet': {'hashtags': [], 'tweet_id': '0x29d0...\n",
       "1867532    {'tweet': {'hashtags': [], 'tweet_id': '0x2a6a...\n",
       "1867533    {'tweet': {'hashtags': [], 'tweet_id': '0x24fa...\n",
       "1867534    {'tweet': {'hashtags': ['Sundayvibes'], 'tweet...\n",
       "Name: _source, Length: 1867535, dtype: object"
      ]
     },
     "execution_count": 4,
     "metadata": {},
     "output_type": "execute_result"
    }
   ],
   "source": [
    "# I want to get only the \"text\" data from the json, this text is inside the source inside the json\n",
    "source=json_objectdf['_source']\n",
    "source"
   ]
  },
  {
   "cell_type": "code",
   "execution_count": 5,
   "id": "b2530e92",
   "metadata": {},
   "outputs": [
    {
     "data": {
      "text/plain": [
       "1867535"
      ]
     },
     "execution_count": 5,
     "metadata": {},
     "output_type": "execute_result"
    }
   ],
   "source": [
    "# to get a run inside a for loop for all the items in the json\n",
    "json_objectdf['_source'].count()"
   ]
  },
  {
   "cell_type": "code",
   "execution_count": 6,
   "id": "8a30e328",
   "metadata": {},
   "outputs": [],
   "source": [
    "# arrays where the information inside the json will be stored\n",
    "tweet_array=[] # to store the text data of the tweets\n",
    "tweet_id=[] # to store the tweet id "
   ]
  },
  {
   "cell_type": "code",
   "execution_count": 7,
   "id": "69f9323b",
   "metadata": {},
   "outputs": [],
   "source": [
    "# getting just the text and tweet id from the Json\n",
    "for i in range(json_objectdf['_source'].count()):\n",
    "    tweet_array.append(json_objectdf['_source'][i]['tweet']['text'])\n",
    "    tweet_id.append(json_objectdf['_source'][i]['tweet']['tweet_id'])"
   ]
  },
  {
   "cell_type": "code",
   "execution_count": 8,
   "id": "ddf09ab7",
   "metadata": {},
   "outputs": [
    {
     "data": {
      "text/html": [
       "<div>\n",
       "<style scoped>\n",
       "    .dataframe tbody tr th:only-of-type {\n",
       "        vertical-align: middle;\n",
       "    }\n",
       "\n",
       "    .dataframe tbody tr th {\n",
       "        vertical-align: top;\n",
       "    }\n",
       "\n",
       "    .dataframe thead th {\n",
       "        text-align: right;\n",
       "    }\n",
       "</style>\n",
       "<table border=\"1\" class=\"dataframe\">\n",
       "  <thead>\n",
       "    <tr style=\"text-align: right;\">\n",
       "      <th></th>\n",
       "      <th>text</th>\n",
       "    </tr>\n",
       "  </thead>\n",
       "  <tbody>\n",
       "    <tr>\n",
       "      <th>0</th>\n",
       "      <td>People who post \"add me on #Snapchat\" must be ...</td>\n",
       "    </tr>\n",
       "    <tr>\n",
       "      <th>1</th>\n",
       "      <td>@brianklaas As we see, Trump is dangerous to #...</td>\n",
       "    </tr>\n",
       "    <tr>\n",
       "      <th>2</th>\n",
       "      <td>Confident of your obedience, I write to you, k...</td>\n",
       "    </tr>\n",
       "    <tr>\n",
       "      <th>3</th>\n",
       "      <td>Now ISSA is stalking Tasha 😂😂😂 &lt;LH&gt;</td>\n",
       "    </tr>\n",
       "    <tr>\n",
       "      <th>4</th>\n",
       "      <td>\"Trust is not the same as faith. A friend is s...</td>\n",
       "    </tr>\n",
       "  </tbody>\n",
       "</table>\n",
       "</div>"
      ],
      "text/plain": [
       "                                                text\n",
       "0  People who post \"add me on #Snapchat\" must be ...\n",
       "1  @brianklaas As we see, Trump is dangerous to #...\n",
       "2  Confident of your obedience, I write to you, k...\n",
       "3                Now ISSA is stalking Tasha 😂😂😂 <LH>\n",
       "4  \"Trust is not the same as faith. A friend is s..."
      ]
     },
     "execution_count": 8,
     "metadata": {},
     "output_type": "execute_result"
    }
   ],
   "source": [
    "# converting to data frames the tweet_array text \n",
    "tweet_array_df=pd.DataFrame(tweet_array, columns=['text'])\n",
    "tweet_array_df.head()"
   ]
  },
  {
   "cell_type": "code",
   "execution_count": 9,
   "id": "4b2da49f",
   "metadata": {},
   "outputs": [
    {
     "data": {
      "text/html": [
       "<div>\n",
       "<style scoped>\n",
       "    .dataframe tbody tr th:only-of-type {\n",
       "        vertical-align: middle;\n",
       "    }\n",
       "\n",
       "    .dataframe tbody tr th {\n",
       "        vertical-align: top;\n",
       "    }\n",
       "\n",
       "    .dataframe thead th {\n",
       "        text-align: right;\n",
       "    }\n",
       "</style>\n",
       "<table border=\"1\" class=\"dataframe\">\n",
       "  <thead>\n",
       "    <tr style=\"text-align: right;\">\n",
       "      <th></th>\n",
       "      <th>tweet_id</th>\n",
       "    </tr>\n",
       "  </thead>\n",
       "  <tbody>\n",
       "    <tr>\n",
       "      <th>0</th>\n",
       "      <td>0x376b20</td>\n",
       "    </tr>\n",
       "    <tr>\n",
       "      <th>1</th>\n",
       "      <td>0x2d5350</td>\n",
       "    </tr>\n",
       "    <tr>\n",
       "      <th>2</th>\n",
       "      <td>0x28b412</td>\n",
       "    </tr>\n",
       "    <tr>\n",
       "      <th>3</th>\n",
       "      <td>0x1cd5b0</td>\n",
       "    </tr>\n",
       "    <tr>\n",
       "      <th>4</th>\n",
       "      <td>0x2de201</td>\n",
       "    </tr>\n",
       "    <tr>\n",
       "      <th>...</th>\n",
       "      <td>...</td>\n",
       "    </tr>\n",
       "    <tr>\n",
       "      <th>1867530</th>\n",
       "      <td>0x316b80</td>\n",
       "    </tr>\n",
       "    <tr>\n",
       "      <th>1867531</th>\n",
       "      <td>0x29d0cb</td>\n",
       "    </tr>\n",
       "    <tr>\n",
       "      <th>1867532</th>\n",
       "      <td>0x2a6a4f</td>\n",
       "    </tr>\n",
       "    <tr>\n",
       "      <th>1867533</th>\n",
       "      <td>0x24faed</td>\n",
       "    </tr>\n",
       "    <tr>\n",
       "      <th>1867534</th>\n",
       "      <td>0x34be8c</td>\n",
       "    </tr>\n",
       "  </tbody>\n",
       "</table>\n",
       "<p>1867535 rows × 1 columns</p>\n",
       "</div>"
      ],
      "text/plain": [
       "         tweet_id\n",
       "0        0x376b20\n",
       "1        0x2d5350\n",
       "2        0x28b412\n",
       "3        0x1cd5b0\n",
       "4        0x2de201\n",
       "...           ...\n",
       "1867530  0x316b80\n",
       "1867531  0x29d0cb\n",
       "1867532  0x2a6a4f\n",
       "1867533  0x24faed\n",
       "1867534  0x34be8c\n",
       "\n",
       "[1867535 rows x 1 columns]"
      ]
     },
     "execution_count": 9,
     "metadata": {},
     "output_type": "execute_result"
    }
   ],
   "source": [
    "# converting to data frames the tweet_id\n",
    "tweet_id_df=pd.DataFrame(tweet_id, columns=['tweet_id'])\n",
    "tweet_id_df"
   ]
  },
  {
   "cell_type": "code",
   "execution_count": 10,
   "id": "4d8e8b68",
   "metadata": {},
   "outputs": [
    {
     "data": {
      "text/html": [
       "<div>\n",
       "<style scoped>\n",
       "    .dataframe tbody tr th:only-of-type {\n",
       "        vertical-align: middle;\n",
       "    }\n",
       "\n",
       "    .dataframe tbody tr th {\n",
       "        vertical-align: top;\n",
       "    }\n",
       "\n",
       "    .dataframe thead th {\n",
       "        text-align: right;\n",
       "    }\n",
       "</style>\n",
       "<table border=\"1\" class=\"dataframe\">\n",
       "  <thead>\n",
       "    <tr style=\"text-align: right;\">\n",
       "      <th></th>\n",
       "      <th>text</th>\n",
       "      <th>tweet_id</th>\n",
       "    </tr>\n",
       "  </thead>\n",
       "  <tbody>\n",
       "    <tr>\n",
       "      <th>0</th>\n",
       "      <td>People who post \"add me on #Snapchat\" must be ...</td>\n",
       "      <td>0x376b20</td>\n",
       "    </tr>\n",
       "    <tr>\n",
       "      <th>1</th>\n",
       "      <td>@brianklaas As we see, Trump is dangerous to #...</td>\n",
       "      <td>0x2d5350</td>\n",
       "    </tr>\n",
       "    <tr>\n",
       "      <th>2</th>\n",
       "      <td>Confident of your obedience, I write to you, k...</td>\n",
       "      <td>0x28b412</td>\n",
       "    </tr>\n",
       "    <tr>\n",
       "      <th>3</th>\n",
       "      <td>Now ISSA is stalking Tasha 😂😂😂 &lt;LH&gt;</td>\n",
       "      <td>0x1cd5b0</td>\n",
       "    </tr>\n",
       "    <tr>\n",
       "      <th>4</th>\n",
       "      <td>\"Trust is not the same as faith. A friend is s...</td>\n",
       "      <td>0x2de201</td>\n",
       "    </tr>\n",
       "  </tbody>\n",
       "</table>\n",
       "</div>"
      ],
      "text/plain": [
       "                                                text  tweet_id\n",
       "0  People who post \"add me on #Snapchat\" must be ...  0x376b20\n",
       "1  @brianklaas As we see, Trump is dangerous to #...  0x2d5350\n",
       "2  Confident of your obedience, I write to you, k...  0x28b412\n",
       "3                Now ISSA is stalking Tasha 😂😂😂 <LH>  0x1cd5b0\n",
       "4  \"Trust is not the same as faith. A friend is s...  0x2de201"
      ]
     },
     "execution_count": 10,
     "metadata": {},
     "output_type": "execute_result"
    }
   ],
   "source": [
    "# merging the two dataframes, and now we have the data from the json in pandas DF format\n",
    "merge2=pd.concat([tweet_array_df, tweet_id_df], axis=1)\n",
    "merge2.head()"
   ]
  },
  {
   "cell_type": "code",
   "execution_count": 11,
   "id": "13db2832",
   "metadata": {},
   "outputs": [
    {
     "data": {
      "text/plain": [
       "(1867535, 2)"
      ]
     },
     "execution_count": 11,
     "metadata": {},
     "output_type": "execute_result"
    }
   ],
   "source": [
    "merge2.shape"
   ]
  },
  {
   "cell_type": "code",
   "execution_count": 17,
   "id": "8ba68f45",
   "metadata": {},
   "outputs": [],
   "source": [
    "# exploration of data inside the CSVs"
   ]
  },
  {
   "cell_type": "code",
   "execution_count": 12,
   "id": "99aa1978",
   "metadata": {},
   "outputs": [
    {
     "data": {
      "text/html": [
       "<div>\n",
       "<style scoped>\n",
       "    .dataframe tbody tr th:only-of-type {\n",
       "        vertical-align: middle;\n",
       "    }\n",
       "\n",
       "    .dataframe tbody tr th {\n",
       "        vertical-align: top;\n",
       "    }\n",
       "\n",
       "    .dataframe thead th {\n",
       "        text-align: right;\n",
       "    }\n",
       "</style>\n",
       "<table border=\"1\" class=\"dataframe\">\n",
       "  <thead>\n",
       "    <tr style=\"text-align: right;\">\n",
       "      <th></th>\n",
       "      <th>tweet_id</th>\n",
       "      <th>emotion</th>\n",
       "    </tr>\n",
       "  </thead>\n",
       "  <tbody>\n",
       "    <tr>\n",
       "      <th>0</th>\n",
       "      <td>0x3140b1</td>\n",
       "      <td>sadness</td>\n",
       "    </tr>\n",
       "    <tr>\n",
       "      <th>1</th>\n",
       "      <td>0x368b73</td>\n",
       "      <td>disgust</td>\n",
       "    </tr>\n",
       "    <tr>\n",
       "      <th>2</th>\n",
       "      <td>0x296183</td>\n",
       "      <td>anticipation</td>\n",
       "    </tr>\n",
       "    <tr>\n",
       "      <th>3</th>\n",
       "      <td>0x2bd6e1</td>\n",
       "      <td>joy</td>\n",
       "    </tr>\n",
       "    <tr>\n",
       "      <th>4</th>\n",
       "      <td>0x2ee1dd</td>\n",
       "      <td>anticipation</td>\n",
       "    </tr>\n",
       "  </tbody>\n",
       "</table>\n",
       "</div>"
      ],
      "text/plain": [
       "   tweet_id       emotion\n",
       "0  0x3140b1       sadness\n",
       "1  0x368b73       disgust\n",
       "2  0x296183  anticipation\n",
       "3  0x2bd6e1           joy\n",
       "4  0x2ee1dd  anticipation"
      ]
     },
     "execution_count": 12,
     "metadata": {},
     "output_type": "execute_result"
    }
   ],
   "source": [
    "emotion_df.head(5) # emotion tag of the tweets id  to train the model"
   ]
  },
  {
   "cell_type": "code",
   "execution_count": 13,
   "id": "73ff9c50",
   "metadata": {},
   "outputs": [
    {
     "data": {
      "text/html": [
       "<div>\n",
       "<style scoped>\n",
       "    .dataframe tbody tr th:only-of-type {\n",
       "        vertical-align: middle;\n",
       "    }\n",
       "\n",
       "    .dataframe tbody tr th {\n",
       "        vertical-align: top;\n",
       "    }\n",
       "\n",
       "    .dataframe thead th {\n",
       "        text-align: right;\n",
       "    }\n",
       "</style>\n",
       "<table border=\"1\" class=\"dataframe\">\n",
       "  <thead>\n",
       "    <tr style=\"text-align: right;\">\n",
       "      <th></th>\n",
       "      <th>tweet_id</th>\n",
       "      <th>identification</th>\n",
       "    </tr>\n",
       "  </thead>\n",
       "  <tbody>\n",
       "    <tr>\n",
       "      <th>0</th>\n",
       "      <td>0x28cc61</td>\n",
       "      <td>test</td>\n",
       "    </tr>\n",
       "    <tr>\n",
       "      <th>1</th>\n",
       "      <td>0x29e452</td>\n",
       "      <td>train</td>\n",
       "    </tr>\n",
       "    <tr>\n",
       "      <th>2</th>\n",
       "      <td>0x2b3819</td>\n",
       "      <td>train</td>\n",
       "    </tr>\n",
       "    <tr>\n",
       "      <th>3</th>\n",
       "      <td>0x2db41f</td>\n",
       "      <td>test</td>\n",
       "    </tr>\n",
       "    <tr>\n",
       "      <th>4</th>\n",
       "      <td>0x2a2acc</td>\n",
       "      <td>train</td>\n",
       "    </tr>\n",
       "  </tbody>\n",
       "</table>\n",
       "</div>"
      ],
      "text/plain": [
       "   tweet_id identification\n",
       "0  0x28cc61           test\n",
       "1  0x29e452          train\n",
       "2  0x2b3819          train\n",
       "3  0x2db41f           test\n",
       "4  0x2a2acc          train"
      ]
     },
     "execution_count": 13,
     "metadata": {},
     "output_type": "execute_result"
    }
   ],
   "source": [
    "identify_df.head(5) # identification tag of the tweets id to train the model"
   ]
  },
  {
   "cell_type": "code",
   "execution_count": 14,
   "id": "e26d87d7",
   "metadata": {},
   "outputs": [
    {
     "data": {
      "text/plain": [
       "(1867535, 3)"
      ]
     },
     "execution_count": 14,
     "metadata": {},
     "output_type": "execute_result"
    }
   ],
   "source": [
    "# merging the CSVs (emotion and identification)\n",
    "merge1 = pd.merge(emotion_df, identify_df, how='outer')\n",
    "merge1.shape #same number of rows as the dataframes obtained from the json"
   ]
  },
  {
   "cell_type": "code",
   "execution_count": 15,
   "id": "b1a90e1f",
   "metadata": {},
   "outputs": [
    {
     "data": {
      "text/html": [
       "<div>\n",
       "<style scoped>\n",
       "    .dataframe tbody tr th:only-of-type {\n",
       "        vertical-align: middle;\n",
       "    }\n",
       "\n",
       "    .dataframe tbody tr th {\n",
       "        vertical-align: top;\n",
       "    }\n",
       "\n",
       "    .dataframe thead th {\n",
       "        text-align: right;\n",
       "    }\n",
       "</style>\n",
       "<table border=\"1\" class=\"dataframe\">\n",
       "  <thead>\n",
       "    <tr style=\"text-align: right;\">\n",
       "      <th></th>\n",
       "      <th>tweet_id</th>\n",
       "      <th>emotion</th>\n",
       "      <th>identification</th>\n",
       "    </tr>\n",
       "  </thead>\n",
       "  <tbody>\n",
       "    <tr>\n",
       "      <th>0</th>\n",
       "      <td>0x3140b1</td>\n",
       "      <td>sadness</td>\n",
       "      <td>train</td>\n",
       "    </tr>\n",
       "    <tr>\n",
       "      <th>1</th>\n",
       "      <td>0x368b73</td>\n",
       "      <td>disgust</td>\n",
       "      <td>train</td>\n",
       "    </tr>\n",
       "    <tr>\n",
       "      <th>2</th>\n",
       "      <td>0x296183</td>\n",
       "      <td>anticipation</td>\n",
       "      <td>train</td>\n",
       "    </tr>\n",
       "    <tr>\n",
       "      <th>3</th>\n",
       "      <td>0x2bd6e1</td>\n",
       "      <td>joy</td>\n",
       "      <td>train</td>\n",
       "    </tr>\n",
       "    <tr>\n",
       "      <th>4</th>\n",
       "      <td>0x2ee1dd</td>\n",
       "      <td>anticipation</td>\n",
       "      <td>train</td>\n",
       "    </tr>\n",
       "  </tbody>\n",
       "</table>\n",
       "</div>"
      ],
      "text/plain": [
       "   tweet_id       emotion identification\n",
       "0  0x3140b1       sadness          train\n",
       "1  0x368b73       disgust          train\n",
       "2  0x296183  anticipation          train\n",
       "3  0x2bd6e1           joy          train\n",
       "4  0x2ee1dd  anticipation          train"
      ]
     },
     "execution_count": 15,
     "metadata": {},
     "output_type": "execute_result"
    }
   ],
   "source": [
    "merge1.head()"
   ]
  },
  {
   "cell_type": "code",
   "execution_count": 16,
   "id": "ff5228f4",
   "metadata": {},
   "outputs": [
    {
     "data": {
      "text/html": [
       "<div>\n",
       "<style scoped>\n",
       "    .dataframe tbody tr th:only-of-type {\n",
       "        vertical-align: middle;\n",
       "    }\n",
       "\n",
       "    .dataframe tbody tr th {\n",
       "        vertical-align: top;\n",
       "    }\n",
       "\n",
       "    .dataframe thead th {\n",
       "        text-align: right;\n",
       "    }\n",
       "</style>\n",
       "<table border=\"1\" class=\"dataframe\">\n",
       "  <thead>\n",
       "    <tr style=\"text-align: right;\">\n",
       "      <th></th>\n",
       "      <th>tweet_id</th>\n",
       "      <th>emotion</th>\n",
       "      <th>identification</th>\n",
       "      <th>text</th>\n",
       "    </tr>\n",
       "  </thead>\n",
       "  <tbody>\n",
       "    <tr>\n",
       "      <th>0</th>\n",
       "      <td>0x3140b1</td>\n",
       "      <td>sadness</td>\n",
       "      <td>train</td>\n",
       "      <td>Why Chester? &lt;LH&gt; &lt;LH&gt;</td>\n",
       "    </tr>\n",
       "    <tr>\n",
       "      <th>1</th>\n",
       "      <td>0x368b73</td>\n",
       "      <td>disgust</td>\n",
       "      <td>train</td>\n",
       "      <td>@JaredLeto you are the fish that Jonah.  Excep...</td>\n",
       "    </tr>\n",
       "    <tr>\n",
       "      <th>2</th>\n",
       "      <td>0x296183</td>\n",
       "      <td>anticipation</td>\n",
       "      <td>train</td>\n",
       "      <td>He is coming back again and gonna come again q...</td>\n",
       "    </tr>\n",
       "    <tr>\n",
       "      <th>3</th>\n",
       "      <td>0x2bd6e1</td>\n",
       "      <td>joy</td>\n",
       "      <td>train</td>\n",
       "      <td>Dei is really such a beautiful person inside &amp;...</td>\n",
       "    </tr>\n",
       "    <tr>\n",
       "      <th>4</th>\n",
       "      <td>0x2ee1dd</td>\n",
       "      <td>anticipation</td>\n",
       "      <td>train</td>\n",
       "      <td>Expressive praise is also an expression of fai...</td>\n",
       "    </tr>\n",
       "    <tr>\n",
       "      <th>...</th>\n",
       "      <td>...</td>\n",
       "      <td>...</td>\n",
       "      <td>...</td>\n",
       "      <td>...</td>\n",
       "    </tr>\n",
       "    <tr>\n",
       "      <th>1867530</th>\n",
       "      <td>0x2c4dc2</td>\n",
       "      <td>NaN</td>\n",
       "      <td>test</td>\n",
       "      <td>6 year old walks in astounded. Mum! Look how b...</td>\n",
       "    </tr>\n",
       "    <tr>\n",
       "      <th>1867531</th>\n",
       "      <td>0x31be7c</td>\n",
       "      <td>NaN</td>\n",
       "      <td>test</td>\n",
       "      <td>Only one week to go until the #inspiringvolunt...</td>\n",
       "    </tr>\n",
       "    <tr>\n",
       "      <th>1867532</th>\n",
       "      <td>0x1ca58e</td>\n",
       "      <td>NaN</td>\n",
       "      <td>test</td>\n",
       "      <td>I just got caught up with the manga for \"My He...</td>\n",
       "    </tr>\n",
       "    <tr>\n",
       "      <th>1867533</th>\n",
       "      <td>0x35c8ba</td>\n",
       "      <td>NaN</td>\n",
       "      <td>test</td>\n",
       "      <td>Speak only when spoken to and make hot ass mus...</td>\n",
       "    </tr>\n",
       "    <tr>\n",
       "      <th>1867534</th>\n",
       "      <td>0x1d941b</td>\n",
       "      <td>NaN</td>\n",
       "      <td>test</td>\n",
       "      <td>Know what you want and go for it. Fuck everyon...</td>\n",
       "    </tr>\n",
       "  </tbody>\n",
       "</table>\n",
       "<p>1867535 rows × 4 columns</p>\n",
       "</div>"
      ],
      "text/plain": [
       "         tweet_id       emotion identification  \\\n",
       "0        0x3140b1       sadness          train   \n",
       "1        0x368b73       disgust          train   \n",
       "2        0x296183  anticipation          train   \n",
       "3        0x2bd6e1           joy          train   \n",
       "4        0x2ee1dd  anticipation          train   \n",
       "...           ...           ...            ...   \n",
       "1867530  0x2c4dc2           NaN           test   \n",
       "1867531  0x31be7c           NaN           test   \n",
       "1867532  0x1ca58e           NaN           test   \n",
       "1867533  0x35c8ba           NaN           test   \n",
       "1867534  0x1d941b           NaN           test   \n",
       "\n",
       "                                                      text  \n",
       "0                                   Why Chester? <LH> <LH>  \n",
       "1        @JaredLeto you are the fish that Jonah.  Excep...  \n",
       "2        He is coming back again and gonna come again q...  \n",
       "3        Dei is really such a beautiful person inside &...  \n",
       "4        Expressive praise is also an expression of fai...  \n",
       "...                                                    ...  \n",
       "1867530  6 year old walks in astounded. Mum! Look how b...  \n",
       "1867531  Only one week to go until the #inspiringvolunt...  \n",
       "1867532  I just got caught up with the manga for \"My He...  \n",
       "1867533  Speak only when spoken to and make hot ass mus...  \n",
       "1867534  Know what you want and go for it. Fuck everyon...  \n",
       "\n",
       "[1867535 rows x 4 columns]"
      ]
     },
     "execution_count": 16,
     "metadata": {},
     "output_type": "execute_result"
    }
   ],
   "source": [
    "# now the data is aggregated (tweet id, emotion, identification and text)\n",
    "merge3=pd.merge(merge1,merge2,how='inner',on='tweet_id')\n",
    "merge3"
   ]
  },
  {
   "cell_type": "code",
   "execution_count": 17,
   "id": "9b31fe66",
   "metadata": {},
   "outputs": [],
   "source": [
    "# dividing in training and test data for the model\n",
    "test_data=merge3[merge3['identification']=='test']\n",
    "training_data=merge3[merge3['identification']=='train']"
   ]
  },
  {
   "cell_type": "code",
   "execution_count": 18,
   "id": "d05c0b6f",
   "metadata": {},
   "outputs": [
    {
     "data": {
      "text/html": [
       "<div>\n",
       "<style scoped>\n",
       "    .dataframe tbody tr th:only-of-type {\n",
       "        vertical-align: middle;\n",
       "    }\n",
       "\n",
       "    .dataframe tbody tr th {\n",
       "        vertical-align: top;\n",
       "    }\n",
       "\n",
       "    .dataframe thead th {\n",
       "        text-align: right;\n",
       "    }\n",
       "</style>\n",
       "<table border=\"1\" class=\"dataframe\">\n",
       "  <thead>\n",
       "    <tr style=\"text-align: right;\">\n",
       "      <th></th>\n",
       "      <th>tweet_id</th>\n",
       "      <th>emotion</th>\n",
       "      <th>identification</th>\n",
       "      <th>text</th>\n",
       "    </tr>\n",
       "  </thead>\n",
       "  <tbody>\n",
       "    <tr>\n",
       "      <th>1455563</th>\n",
       "      <td>0x28cc61</td>\n",
       "      <td>NaN</td>\n",
       "      <td>test</td>\n",
       "      <td>@Habbo I've seen two separate colours of the e...</td>\n",
       "    </tr>\n",
       "    <tr>\n",
       "      <th>1455564</th>\n",
       "      <td>0x2db41f</td>\n",
       "      <td>NaN</td>\n",
       "      <td>test</td>\n",
       "      <td>@FoxNews @KellyannePolls No serious self respe...</td>\n",
       "    </tr>\n",
       "    <tr>\n",
       "      <th>1455565</th>\n",
       "      <td>0x2466f6</td>\n",
       "      <td>NaN</td>\n",
       "      <td>test</td>\n",
       "      <td>Looking for a new car, and it says 1 lady owne...</td>\n",
       "    </tr>\n",
       "    <tr>\n",
       "      <th>1455566</th>\n",
       "      <td>0x23f9e9</td>\n",
       "      <td>NaN</td>\n",
       "      <td>test</td>\n",
       "      <td>@cineworld “only the brave” just out and fount...</td>\n",
       "    </tr>\n",
       "    <tr>\n",
       "      <th>1455567</th>\n",
       "      <td>0x1fb4e1</td>\n",
       "      <td>NaN</td>\n",
       "      <td>test</td>\n",
       "      <td>Felt like total dog 💩 going into open gym and ...</td>\n",
       "    </tr>\n",
       "    <tr>\n",
       "      <th>...</th>\n",
       "      <td>...</td>\n",
       "      <td>...</td>\n",
       "      <td>...</td>\n",
       "      <td>...</td>\n",
       "    </tr>\n",
       "    <tr>\n",
       "      <th>1455658</th>\n",
       "      <td>0x2ee91f</td>\n",
       "      <td>NaN</td>\n",
       "      <td>test</td>\n",
       "      <td>@yelyahwilliams @ParamoreStreet I thought it w...</td>\n",
       "    </tr>\n",
       "    <tr>\n",
       "      <th>1455659</th>\n",
       "      <td>0x28bae3</td>\n",
       "      <td>NaN</td>\n",
       "      <td>test</td>\n",
       "      <td>When your gone that's really when they want yo...</td>\n",
       "    </tr>\n",
       "    <tr>\n",
       "      <th>1455660</th>\n",
       "      <td>0x25a49d</td>\n",
       "      <td>NaN</td>\n",
       "      <td>test</td>\n",
       "      <td>The @Patriots D making @nyjets look like Super...</td>\n",
       "    </tr>\n",
       "    <tr>\n",
       "      <th>1455661</th>\n",
       "      <td>0x368d58</td>\n",
       "      <td>NaN</td>\n",
       "      <td>test</td>\n",
       "      <td>@Macys What the hell? Standing in men's furnis...</td>\n",
       "    </tr>\n",
       "    <tr>\n",
       "      <th>1455662</th>\n",
       "      <td>0x266fa6</td>\n",
       "      <td>NaN</td>\n",
       "      <td>test</td>\n",
       "      <td>Blatant cheap shot on Adams and the bears play...</td>\n",
       "    </tr>\n",
       "  </tbody>\n",
       "</table>\n",
       "<p>100 rows × 4 columns</p>\n",
       "</div>"
      ],
      "text/plain": [
       "         tweet_id emotion identification  \\\n",
       "1455563  0x28cc61     NaN           test   \n",
       "1455564  0x2db41f     NaN           test   \n",
       "1455565  0x2466f6     NaN           test   \n",
       "1455566  0x23f9e9     NaN           test   \n",
       "1455567  0x1fb4e1     NaN           test   \n",
       "...           ...     ...            ...   \n",
       "1455658  0x2ee91f     NaN           test   \n",
       "1455659  0x28bae3     NaN           test   \n",
       "1455660  0x25a49d     NaN           test   \n",
       "1455661  0x368d58     NaN           test   \n",
       "1455662  0x266fa6     NaN           test   \n",
       "\n",
       "                                                      text  \n",
       "1455563  @Habbo I've seen two separate colours of the e...  \n",
       "1455564  @FoxNews @KellyannePolls No serious self respe...  \n",
       "1455565  Looking for a new car, and it says 1 lady owne...  \n",
       "1455566  @cineworld “only the brave” just out and fount...  \n",
       "1455567  Felt like total dog 💩 going into open gym and ...  \n",
       "...                                                    ...  \n",
       "1455658  @yelyahwilliams @ParamoreStreet I thought it w...  \n",
       "1455659  When your gone that's really when they want yo...  \n",
       "1455660  The @Patriots D making @nyjets look like Super...  \n",
       "1455661  @Macys What the hell? Standing in men's furnis...  \n",
       "1455662  Blatant cheap shot on Adams and the bears play...  \n",
       "\n",
       "[100 rows x 4 columns]"
      ]
     },
     "execution_count": 18,
     "metadata": {},
     "output_type": "execute_result"
    }
   ],
   "source": [
    "test_data[0:100]"
   ]
  },
  {
   "cell_type": "code",
   "execution_count": 19,
   "id": "2b59eccd",
   "metadata": {},
   "outputs": [
    {
     "data": {
      "text/html": [
       "<div>\n",
       "<style scoped>\n",
       "    .dataframe tbody tr th:only-of-type {\n",
       "        vertical-align: middle;\n",
       "    }\n",
       "\n",
       "    .dataframe tbody tr th {\n",
       "        vertical-align: top;\n",
       "    }\n",
       "\n",
       "    .dataframe thead th {\n",
       "        text-align: right;\n",
       "    }\n",
       "</style>\n",
       "<table border=\"1\" class=\"dataframe\">\n",
       "  <thead>\n",
       "    <tr style=\"text-align: right;\">\n",
       "      <th></th>\n",
       "      <th>tweet_id</th>\n",
       "      <th>emotion</th>\n",
       "      <th>identification</th>\n",
       "      <th>text</th>\n",
       "    </tr>\n",
       "  </thead>\n",
       "  <tbody>\n",
       "    <tr>\n",
       "      <th>0</th>\n",
       "      <td>0x3140b1</td>\n",
       "      <td>sadness</td>\n",
       "      <td>train</td>\n",
       "      <td>Why Chester? &lt;LH&gt; &lt;LH&gt;</td>\n",
       "    </tr>\n",
       "    <tr>\n",
       "      <th>1</th>\n",
       "      <td>0x368b73</td>\n",
       "      <td>disgust</td>\n",
       "      <td>train</td>\n",
       "      <td>@JaredLeto you are the fish that Jonah.  Excep...</td>\n",
       "    </tr>\n",
       "    <tr>\n",
       "      <th>2</th>\n",
       "      <td>0x296183</td>\n",
       "      <td>anticipation</td>\n",
       "      <td>train</td>\n",
       "      <td>He is coming back again and gonna come again q...</td>\n",
       "    </tr>\n",
       "    <tr>\n",
       "      <th>3</th>\n",
       "      <td>0x2bd6e1</td>\n",
       "      <td>joy</td>\n",
       "      <td>train</td>\n",
       "      <td>Dei is really such a beautiful person inside &amp;...</td>\n",
       "    </tr>\n",
       "    <tr>\n",
       "      <th>4</th>\n",
       "      <td>0x2ee1dd</td>\n",
       "      <td>anticipation</td>\n",
       "      <td>train</td>\n",
       "      <td>Expressive praise is also an expression of fai...</td>\n",
       "    </tr>\n",
       "    <tr>\n",
       "      <th>...</th>\n",
       "      <td>...</td>\n",
       "      <td>...</td>\n",
       "      <td>...</td>\n",
       "      <td>...</td>\n",
       "    </tr>\n",
       "    <tr>\n",
       "      <th>95</th>\n",
       "      <td>0x356204</td>\n",
       "      <td>joy</td>\n",
       "      <td>train</td>\n",
       "      <td>Appreciate everyone who purchased a cd today! ...</td>\n",
       "    </tr>\n",
       "    <tr>\n",
       "      <th>96</th>\n",
       "      <td>0x32ef9f</td>\n",
       "      <td>joy</td>\n",
       "      <td>train</td>\n",
       "      <td>just realized holes is on netflix so happy fuc...</td>\n",
       "    </tr>\n",
       "    <tr>\n",
       "      <th>97</th>\n",
       "      <td>0x33228f</td>\n",
       "      <td>disgust</td>\n",
       "      <td>train</td>\n",
       "      <td>@LowkoTV This is..... beyond words &lt;LH&gt;</td>\n",
       "    </tr>\n",
       "    <tr>\n",
       "      <th>98</th>\n",
       "      <td>0x206046</td>\n",
       "      <td>anticipation</td>\n",
       "      <td>train</td>\n",
       "      <td>&lt;LH&gt; is about the intervention of &lt;LH&gt; into ou...</td>\n",
       "    </tr>\n",
       "    <tr>\n",
       "      <th>99</th>\n",
       "      <td>0x311f20</td>\n",
       "      <td>surprise</td>\n",
       "      <td>train</td>\n",
       "      <td>Watch n #Platinumlife these Ladies are &lt;LH&gt; @E</td>\n",
       "    </tr>\n",
       "  </tbody>\n",
       "</table>\n",
       "<p>100 rows × 4 columns</p>\n",
       "</div>"
      ],
      "text/plain": [
       "    tweet_id       emotion identification  \\\n",
       "0   0x3140b1       sadness          train   \n",
       "1   0x368b73       disgust          train   \n",
       "2   0x296183  anticipation          train   \n",
       "3   0x2bd6e1           joy          train   \n",
       "4   0x2ee1dd  anticipation          train   \n",
       "..       ...           ...            ...   \n",
       "95  0x356204           joy          train   \n",
       "96  0x32ef9f           joy          train   \n",
       "97  0x33228f       disgust          train   \n",
       "98  0x206046  anticipation          train   \n",
       "99  0x311f20      surprise          train   \n",
       "\n",
       "                                                 text  \n",
       "0                              Why Chester? <LH> <LH>  \n",
       "1   @JaredLeto you are the fish that Jonah.  Excep...  \n",
       "2   He is coming back again and gonna come again q...  \n",
       "3   Dei is really such a beautiful person inside &...  \n",
       "4   Expressive praise is also an expression of fai...  \n",
       "..                                                ...  \n",
       "95  Appreciate everyone who purchased a cd today! ...  \n",
       "96  just realized holes is on netflix so happy fuc...  \n",
       "97            @LowkoTV This is..... beyond words <LH>  \n",
       "98  <LH> is about the intervention of <LH> into ou...  \n",
       "99     Watch n #Platinumlife these Ladies are <LH> @E  \n",
       "\n",
       "[100 rows x 4 columns]"
      ]
     },
     "execution_count": 19,
     "metadata": {},
     "output_type": "execute_result"
    }
   ],
   "source": [
    "training_data.head(100)"
   ]
  },
  {
   "cell_type": "code",
   "execution_count": 20,
   "id": "bd3411e4",
   "metadata": {},
   "outputs": [
    {
     "data": {
      "text/html": [
       "<div>\n",
       "<style scoped>\n",
       "    .dataframe tbody tr th:only-of-type {\n",
       "        vertical-align: middle;\n",
       "    }\n",
       "\n",
       "    .dataframe tbody tr th {\n",
       "        vertical-align: top;\n",
       "    }\n",
       "\n",
       "    .dataframe thead th {\n",
       "        text-align: right;\n",
       "    }\n",
       "</style>\n",
       "<table border=\"1\" class=\"dataframe\">\n",
       "  <thead>\n",
       "    <tr style=\"text-align: right;\">\n",
       "      <th></th>\n",
       "      <th>tweet_id</th>\n",
       "      <th>emotion</th>\n",
       "      <th>identification</th>\n",
       "      <th>text</th>\n",
       "    </tr>\n",
       "  </thead>\n",
       "  <tbody>\n",
       "    <tr>\n",
       "      <th>1793332</th>\n",
       "      <td>0x26289a</td>\n",
       "      <td>NaN</td>\n",
       "      <td>test</td>\n",
       "      <td>In these tough times, who do YOU turn to as yo...</td>\n",
       "    </tr>\n",
       "  </tbody>\n",
       "</table>\n",
       "</div>"
      ],
      "text/plain": [
       "         tweet_id emotion identification  \\\n",
       "1793332  0x26289a     NaN           test   \n",
       "\n",
       "                                                      text  \n",
       "1793332  In these tough times, who do YOU turn to as yo...  "
      ]
     },
     "execution_count": 20,
     "metadata": {},
     "output_type": "execute_result"
    }
   ],
   "source": [
    "test_data[test_data['tweet_id']=='0x26289a'] # to verify if the merging was ok"
   ]
  },
  {
   "cell_type": "code",
   "execution_count": 21,
   "id": "7c185cda",
   "metadata": {},
   "outputs": [],
   "source": [
    "# saving training and testing data as CSV files to use later\n",
    "training_data.to_csv('data/training_data.csv', index=False, header=True)\n",
    "test_data.to_csv('data/test_data.csv', index=False, header=True)"
   ]
  },
  {
   "cell_type": "markdown",
   "id": "8af2ce07",
   "metadata": {},
   "source": [
    "## 2- Modeling the Data"
   ]
  },
  {
   "cell_type": "markdown",
   "id": "d4d8d8d9",
   "metadata": {},
   "source": [
    "1) Naive Bayes"
   ]
  },
  {
   "cell_type": "code",
   "execution_count": 31,
   "id": "f486f027",
   "metadata": {},
   "outputs": [
    {
     "name": "stdout",
     "output_type": "stream",
     "text": [
      "X_train.shape:  (1455563, 794247)\n",
      "y_train.shape:  (1455563,)\n",
      "X_test.shape:  (411972, 794247)\n",
      "test time:  51.724s\n"
     ]
    }
   ],
   "source": [
    "# Naive Bayes\n",
    "# building the model\n",
    "from time import time\n",
    "from sklearn.feature_extraction.text import TfidfVectorizer, CountVectorizer\n",
    "from sklearn.naive_bayes import MultinomialNB\n",
    "from sklearn import metrics\n",
    "t=time()\n",
    "\n",
    "# Transforming train data with count vectorizer and tfidf vectorizer, I tried with both\n",
    "#  also changing tokenizer=nltk.word_tokenize and max_features combinations\n",
    "#cv = CountVectorizer()\n",
    "tfid = TfidfVectorizer()\n",
    "X_train = tfid.fit_transform(training_data['text'])\n",
    "y_train = training_data['emotion']\n",
    "\n",
    "X_test = tfid.transform(test_data['text'])\n",
    "\n",
    "# data dimension\n",
    "print('X_train.shape: ', X_train.shape)\n",
    "print('y_train.shape: ', y_train.shape)\n",
    "print('X_test.shape: ', X_test.shape)\n",
    "test_time = time() - t\n",
    "print(\"test time:  %0.3fs\" % test_time)"
   ]
  },
  {
   "cell_type": "code",
   "execution_count": 32,
   "id": "acea1e44",
   "metadata": {},
   "outputs": [
    {
     "name": "stdout",
     "output_type": "stream",
     "text": [
      "test time:  8.127s\n",
      "['joy' 'sadness' 'joy' ... 'joy' 'joy' 'joy']\n"
     ]
    }
   ],
   "source": [
    "t=time()\n",
    "\n",
    "# building naive bayes model with Multinomial distribution \n",
    "nbm = MultinomialNB()\n",
    "\n",
    "# training the model\n",
    "nbm = nbm.fit(X_train, y_train)\n",
    "\n",
    "# doing some predictions\n",
    "y_train_pred = nbm.predict(X_train)\n",
    "y_test_pred = nbm.predict(X_test)\n",
    "\n",
    "test_time = time() - t\n",
    "\n",
    "print(\"test time:  %0.3fs\" % test_time)\n",
    "print(y_test_pred)"
   ]
  },
  {
   "cell_type": "code",
   "execution_count": 33,
   "id": "c54ecda7",
   "metadata": {},
   "outputs": [
    {
     "data": {
      "text/plain": [
       "(411972, 1)"
      ]
     },
     "execution_count": 33,
     "metadata": {},
     "output_type": "execute_result"
    }
   ],
   "source": [
    "# converting predictions to dataframes\n",
    "y_test_pred_df=pd.DataFrame(y_test_pred)\n",
    "y_test_pred_df.shape"
   ]
  },
  {
   "cell_type": "code",
   "execution_count": 34,
   "id": "64de6ccb",
   "metadata": {},
   "outputs": [
    {
     "data": {
      "text/plain": [
       "joy             365850\n",
       "sadness          24826\n",
       "anticipation     15635\n",
       "disgust           3491\n",
       "trust             1735\n",
       "fear               430\n",
       "surprise             3\n",
       "anger                2\n",
       "dtype: int64"
      ]
     },
     "execution_count": 34,
     "metadata": {},
     "output_type": "execute_result"
    }
   ],
   "source": [
    "y_test_pred_df.value_counts()"
   ]
  },
  {
   "cell_type": "code",
   "execution_count": 25,
   "id": "caf80714",
   "metadata": {},
   "outputs": [
    {
     "data": {
      "text/plain": [
       "(411972, 4)"
      ]
     },
     "execution_count": 25,
     "metadata": {},
     "output_type": "execute_result"
    }
   ],
   "source": [
    "test_data.shape"
   ]
  },
  {
   "cell_type": "code",
   "execution_count": 35,
   "id": "7f53689b",
   "metadata": {},
   "outputs": [],
   "source": [
    "# saving to CSVs to later submit in the Kaggle the tweet id and the emotion predicted for that id\n",
    "y_test_pred_df.to_csv('data/test_pred_tfid_notokenizer.csv', index=False, header=True)\n",
    "test_data['tweet_id'].to_csv('data/tweet_id.csv', index=False, header=True)"
   ]
  },
  {
   "cell_type": "markdown",
   "id": "3cbc77e4",
   "metadata": {},
   "source": [
    "2) Decision Tree"
   ]
  },
  {
   "cell_type": "code",
   "execution_count": 50,
   "id": "b25fb6ee",
   "metadata": {},
   "outputs": [
    {
     "name": "stderr",
     "output_type": "stream",
     "text": [
      "C:\\Users\\Ellis\\anaconda3\\lib\\site-packages\\sklearn\\feature_extraction\\text.py:516: UserWarning: The parameter 'token_pattern' will not be used since 'tokenizer' is not None'\n",
      "  warnings.warn(\n"
     ]
    },
    {
     "name": "stdout",
     "output_type": "stream",
     "text": [
      "X_train.shape:  (1455563, 794247)\n",
      "y_train.shape:  (1455563,)\n",
      "X_test.shape:  (411972, 794247)\n"
     ]
    }
   ],
   "source": [
    "# Decision Tree\n",
    "from sklearn.tree import DecisionTreeClassifier\n",
    "cv2 = CountVectorizer(tokenizer=nltk.word_tokenize)\n",
    "cv2.fit(training_data['text'])\n",
    "\n",
    "# training & testing data\n",
    "X_train2 = cv2.transform(training_data['text'])\n",
    "y_train2 = training_data['emotion']\n",
    "\n",
    "X_test2 = cv2.transform(test_data['text'])\n",
    "\n",
    "# data dimension \n",
    "print('X_train.shape: ', X_train.shape)\n",
    "print('y_train.shape: ', y_train.shape)\n",
    "print('X_test.shape: ', X_test.shape)"
   ]
  },
  {
   "cell_type": "code",
   "execution_count": 51,
   "id": "dc4ebdc9",
   "metadata": {},
   "outputs": [
    {
     "data": {
      "text/plain": [
       "array(['disgust', 'joy', 'sadness', 'joy', 'joy', 'joy', 'joy', 'anger',\n",
       "       'anticipation', 'anticipation'], dtype=object)"
      ]
     },
     "execution_count": 51,
     "metadata": {},
     "output_type": "execute_result"
    }
   ],
   "source": [
    "# build DecisionTree model\n",
    "DT_model = DecisionTreeClassifier(random_state=1)\n",
    "\n",
    "# training\n",
    "DT_model = DT_model.fit(X_train2, y_train2)\n",
    "\n",
    "# predicting\n",
    "y_train_pred2 = DT_model.predict(X_train2)\n",
    "y_test_pred2 = DT_model.predict(X_test2)\n",
    "\n",
    "# pred result\n",
    "y_test_pred2[:10]"
   ]
  },
  {
   "cell_type": "code",
   "execution_count": null,
   "id": "a3010c34",
   "metadata": {},
   "outputs": [],
   "source": [
    "# saving to CSVs to later submit in the Kaggle"
   ]
  },
  {
   "cell_type": "code",
   "execution_count": 52,
   "id": "8ad68115",
   "metadata": {},
   "outputs": [
    {
     "data": {
      "text/plain": [
       "(411972, 1)"
      ]
     },
     "execution_count": 52,
     "metadata": {},
     "output_type": "execute_result"
    }
   ],
   "source": [
    "y_test_pred2_df=pd.DataFrame(y_test_pred2)\n",
    "y_test_pred2_df.shape"
   ]
  },
  {
   "cell_type": "code",
   "execution_count": 54,
   "id": "b1b29f39",
   "metadata": {},
   "outputs": [],
   "source": [
    "y_test_pred2_df.to_csv('data/test_pred2.csv', index=False, header=True)\n",
    "test_data['tweet_id'].to_csv('data/tweet_id.csv', index=False, header=True)"
   ]
  },
  {
   "cell_type": "code",
   "execution_count": 45,
   "id": "9bc19969",
   "metadata": {},
   "outputs": [
    {
     "data": {
      "text/plain": [
       "(411972, 1)"
      ]
     },
     "execution_count": 45,
     "metadata": {},
     "output_type": "execute_result"
    }
   ],
   "source": [
    "y_test_pred3_df=pd.DataFrame(y_test_pred3)\n",
    "y_test_pred3_df.shape"
   ]
  },
  {
   "cell_type": "markdown",
   "id": "1ae1ee8d",
   "metadata": {},
   "source": [
    "3) Random Forest"
   ]
  },
  {
   "cell_type": "code",
   "execution_count": 37,
   "id": "5de6f9da",
   "metadata": {},
   "outputs": [
    {
     "name": "stdout",
     "output_type": "stream",
     "text": [
      "X_train.shape:  (1455563, 994729)\n",
      "y_train.shape:  (1455563,)\n",
      "X_test.shape:  (411972, 994729)\n",
      "test time:  527.589s\n"
     ]
    }
   ],
   "source": [
    "# Random Forest\n",
    "# This one could not finish, \n",
    "# I think to many nodes because I tried with the whole dataset hence too many features\n",
    "# Try with lest features\n",
    "\n",
    "t=time()\n",
    "# building the model\n",
    "\n",
    "from time import time\n",
    "from sklearn.feature_extraction.text import TfidfVectorizer, CountVectorizer\n",
    "from sklearn.naive_bayes import MultinomialNB\n",
    "from sklearn import metrics\n",
    "\n",
    "# Transforming train data with count vectorizer \n",
    "cv = CountVectorizer(tokenizer=nltk.word_tokenize)\n",
    "X_train4 = cv.fit_transform(training_data['text'])\n",
    "y_train4 = training_data['emotion']\n",
    "\n",
    "X_test4 = cv.transform(test_data['text'])\n",
    "\n",
    "\n",
    "\n",
    "# take a look at data dimension\n",
    "print('X_train.shape: ', X_train4.shape)\n",
    "print('y_train.shape: ', y_train4.shape)\n",
    "print('X_test.shape: ', X_test4.shape)\n",
    "\n",
    "\n",
    "test_time = time() - t\n",
    "print(\"test time:  %0.3fs\" % test_time)"
   ]
  },
  {
   "cell_type": "code",
   "execution_count": null,
   "id": "908f143c",
   "metadata": {},
   "outputs": [],
   "source": [
    "# Random Forest\n",
    "#https://towardsdatascience.com/a-practical-guide-to-implementing-a-random-forest-classifier-in-python-979988d8a263\n",
    "from time import time\n",
    "from sklearn.ensemble import RandomForestClassifier\n",
    "t=time()\n",
    "\n",
    "# building randomforest\n",
    "rfc = RandomForestClassifier()\n",
    "\n",
    "# training the model\n",
    "rfc = rfc.fit(X_train4, y_train4)\n",
    "\n",
    "# doing some predictions\n",
    "y_train_pred4 = rfc.predict(X_train4)\n",
    "y_test_pred4 = rfc.predict(X_test4)\n",
    "\n",
    "print (rfc.score(X_train4, y_train4))\n",
    "print(y_test_pred4[:10])\n",
    "test_time = time() - t\n",
    "print(\"test time:  %0.3fs\" % test_time)"
   ]
  }
 ],
 "metadata": {
  "kernelspec": {
   "display_name": "Python 3 (ipykernel)",
   "language": "python",
   "name": "python3"
  },
  "language_info": {
   "codemirror_mode": {
    "name": "ipython",
    "version": 3
   },
   "file_extension": ".py",
   "mimetype": "text/x-python",
   "name": "python",
   "nbconvert_exporter": "python",
   "pygments_lexer": "ipython3",
   "version": "3.9.13"
  }
 },
 "nbformat": 4,
 "nbformat_minor": 5
}
